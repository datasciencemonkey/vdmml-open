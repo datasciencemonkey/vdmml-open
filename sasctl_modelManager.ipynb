{
 "cells": [
  {
   "cell_type": "code",
   "execution_count": 1,
   "metadata": {
    "ExecuteTime": {
     "end_time": "2019-09-10T11:40:23.001268Z",
     "start_time": "2019-09-10T11:40:22.994291Z"
    }
   },
   "outputs": [],
   "source": [
    "# import pandas\n",
    "\n",
    "# iris_df = pandas.read_csv('https://raw.githubusercontent.com/' +\n",
    "#                           'pydata/pandas/master/pandas/tests/' + \n",
    "#                           'data/iris.csv')\n",
    "\n",
    "# from sklearn.tree import DecisionTreeClassifier\n",
    "# from sklearn2pmml.pipeline import PMMLPipeline\n",
    "\n",
    "# pipeline = PMMLPipeline([\n",
    "# \t(\"classifier\", DecisionTreeClassifier())\n",
    "# ])\n",
    "# pipeline.fit(iris_df[iris_df.columns.difference([\"Name\"])], iris_df[\"Name\"])\n",
    "\n",
    "# from sklearn2pmml import sklearn2pmml\n",
    "\n",
    "# sklearn2pmml(pipeline, \"DecisionTreeIris.pmml\", with_repr = True)"
   ]
  },
  {
   "cell_type": "code",
   "execution_count": 32,
   "metadata": {
    "ExecuteTime": {
     "end_time": "2019-09-10T20:53:52.774733Z",
     "start_time": "2019-09-10T20:53:52.768543Z"
    }
   },
   "outputs": [],
   "source": [
    "import warnings\n",
    "import sys\n",
    "import warnings\n",
    "\n",
    "if not sys.warnoptions:\n",
    "    warnings.simplefilter(\"ignore\")"
   ]
  },
  {
   "cell_type": "code",
   "execution_count": 33,
   "metadata": {
    "ExecuteTime": {
     "end_time": "2019-09-10T20:53:53.499931Z",
     "start_time": "2019-09-10T20:53:53.472606Z"
    }
   },
   "outputs": [
    {
     "data": {
      "text/plain": [
       "LogisticRegression(C=1.0, class_weight=None, dual=False, fit_intercept=True,\n",
       "          intercept_scaling=1, max_iter=100, multi_class='warn',\n",
       "          n_jobs=None, penalty='l2', random_state=None, solver='warn',\n",
       "          tol=0.0001, verbose=0, warm_start=False)"
      ]
     },
     "execution_count": 33,
     "metadata": {},
     "output_type": "execute_result"
    }
   ],
   "source": [
    "import pandas as pd\n",
    "from sklearn import datasets\n",
    "from sklearn.linear_model import LogisticRegression\n",
    "\n",
    "from sasctl import Session, register_model, publish_model\n",
    "\n",
    "\n",
    "# Load the Iris data set and convert into a Pandas data frame.\n",
    "raw = datasets.load_iris()\n",
    "X = pd.DataFrame(raw.data, columns=['SepalLength', 'SepalWidth',\n",
    "                                    'PetalLength', 'PetalWidth'])\n",
    "y = pd.DataFrame(raw.target, columns=['Species'], dtype='category')\n",
    "y.Species.cat.categories = raw.target_names\n",
    "\n",
    "# Fit a sci-kit learn model\n",
    "model = LogisticRegression()\n",
    "model.fit(X, y)"
   ]
  },
  {
   "cell_type": "markdown",
   "metadata": {},
   "source": [
    "Move the model to Model Manager"
   ]
  },
  {
   "cell_type": "code",
   "execution_count": 34,
   "metadata": {
    "ExecuteTime": {
     "end_time": "2019-09-10T20:53:55.907950Z",
     "start_time": "2019-09-10T20:53:55.902833Z"
    }
   },
   "outputs": [],
   "source": [
    "import swat\n",
    "import _config # this is a local config file that has the credentials to authenticate to CAS"
   ]
  },
  {
   "cell_type": "code",
   "execution_count": 4,
   "metadata": {
    "ExecuteTime": {
     "end_time": "2019-09-10T20:02:26.498849Z",
     "start_time": "2019-09-10T20:02:26.492912Z"
    }
   },
   "outputs": [],
   "source": [
    "host = _config.race_login()[2]\n",
    "user = _config.race_login()[0]\n",
    "passwd = _config.race_login()[1]"
   ]
  },
  {
   "cell_type": "code",
   "execution_count": 5,
   "metadata": {
    "ExecuteTime": {
     "end_time": "2019-09-10T20:02:27.780610Z",
     "start_time": "2019-09-10T20:02:27.772931Z"
    }
   },
   "outputs": [
    {
     "data": {
      "text/plain": [
       "('pdcesx17022.exnet.sas.com', 'sasdemo', 'Orion123')"
      ]
     },
     "execution_count": 5,
     "metadata": {},
     "output_type": "execute_result"
    }
   ],
   "source": [
    "host,user,passwd"
   ]
  },
  {
   "cell_type": "code",
   "execution_count": 6,
   "metadata": {
    "ExecuteTime": {
     "end_time": "2019-09-10T20:02:31.331587Z",
     "start_time": "2019-09-10T20:02:28.809755Z"
    }
   },
   "outputs": [
    {
     "name": "stdout",
     "output_type": "stream",
     "text": [
      "Name: sasctl\r\n",
      "Version: 1.2.3\r\n",
      "Summary: SAS Viya REST Client\r\n",
      "Home-page: https://github.com/sassoftware/python-sasctl/\r\n",
      "Author: SAS\r\n",
      "Author-email: None\r\n",
      "License: Apache v2.0\r\n",
      "Location: /opt/anaconda/anaconda3/envs/dl4viya/lib/python3.6/site-packages\r\n",
      "Requires: six, requests\r\n",
      "Required-by: \r\n"
     ]
    }
   ],
   "source": [
    "!pip show sasctl"
   ]
  },
  {
   "cell_type": "code",
   "execution_count": 7,
   "metadata": {
    "ExecuteTime": {
     "end_time": "2019-09-10T20:02:50.233743Z",
     "start_time": "2019-09-10T20:02:42.340345Z"
    }
   },
   "outputs": [
    {
     "name": "stderr",
     "output_type": "stream",
     "text": [
      "/opt/anaconda/anaconda3/envs/dl4viya/lib/python3.6/site-packages/urllib3/connectionpool.py:847: InsecureRequestWarning: Unverified HTTPS request is being made. Adding certificate verification is strongly advised. See: https://urllib3.readthedocs.io/en/latest/advanced-usage.html#ssl-warnings\n",
      "  InsecureRequestWarning)\n",
      "/opt/anaconda/anaconda3/envs/dl4viya/lib/python3.6/site-packages/urllib3/connectionpool.py:847: InsecureRequestWarning: Unverified HTTPS request is being made. Adding certificate verification is strongly advised. See: https://urllib3.readthedocs.io/en/latest/advanced-usage.html#ssl-warnings\n",
      "  InsecureRequestWarning)\n"
     ]
    },
    {
     "name": "stdout",
     "output_type": "stream",
     "text": [
      "setosa\n"
     ]
    }
   ],
   "source": [
    "with Session(hostname=host, \n",
    "             username=user, \n",
    "             password=passwd, \n",
    "             verify_ssl=False):\n",
    "    model_name = 'iris3'\n",
    "    register_model(model,\n",
    "                   model_name,\n",
    "                   input=X,         # Use X to determine model inputs\n",
    "                   project='iris3',  # Register in \"Iris\" project\n",
    "                   force=True)      # Create project if it doesn't exist\n",
    "\n",
    "    # Publish the model to the real-time scoring engine\n",
    "    module = publish_model(model_name, 'maslocal')\n",
    "\n",
    "    # Select the first row of training data\n",
    "    x = X.iloc[0, :]\n",
    "\n",
    "    # Call the published module and score the record\n",
    "    result = module.score(**x)\n",
    "    print(result)"
   ]
  },
  {
   "cell_type": "code",
   "execution_count": 8,
   "metadata": {
    "ExecuteTime": {
     "end_time": "2019-09-10T20:03:11.759717Z",
     "start_time": "2019-09-10T20:03:11.754179Z"
    }
   },
   "outputs": [],
   "source": [
    "import sasctl\n",
    "\n",
    "conn = sasctl.Session(hostname=host, \n",
    "             username=user, \n",
    "             password=passwd, \n",
    "             verify_ssl=False )"
   ]
  },
  {
   "cell_type": "code",
   "execution_count": 16,
   "metadata": {
    "ExecuteTime": {
     "end_time": "2019-09-10T20:16:19.313271Z",
     "start_time": "2019-09-10T20:16:19.143045Z"
    }
   },
   "outputs": [
    {
     "name": "stderr",
     "output_type": "stream",
     "text": [
      "/opt/anaconda/anaconda3/envs/dl4viya/lib/python3.6/site-packages/urllib3/connectionpool.py:847: InsecureRequestWarning: Unverified HTTPS request is being made. Adding certificate verification is strongly advised. See: https://urllib3.readthedocs.io/en/latest/advanced-usage.html#ssl-warnings\n",
      "  InsecureRequestWarning)\n"
     ]
    }
   ],
   "source": [
    "project = sasctl.mr.get_project('iris3')"
   ]
  },
  {
   "cell_type": "code",
   "execution_count": 18,
   "metadata": {
    "ExecuteTime": {
     "end_time": "2019-09-10T20:17:32.814937Z",
     "start_time": "2019-09-10T20:17:32.808696Z"
    }
   },
   "outputs": [],
   "source": [
    " #microanalytic_score service has get_module().  \n",
    "    #The returned object should automatically have functions defined that correspond to the module steps"
   ]
  },
  {
   "cell_type": "code",
   "execution_count": 19,
   "metadata": {
    "ExecuteTime": {
     "end_time": "2019-09-10T20:18:05.813037Z",
     "start_time": "2019-09-10T20:18:05.758198Z"
    }
   },
   "outputs": [
    {
     "name": "stderr",
     "output_type": "stream",
     "text": [
      "/opt/anaconda/anaconda3/envs/dl4viya/lib/python3.6/site-packages/urllib3/connectionpool.py:847: InsecureRequestWarning: Unverified HTTPS request is being made. Adding certificate verification is strongly advised. See: https://urllib3.readthedocs.io/en/latest/advanced-usage.html#ssl-warnings\n",
      "  InsecureRequestWarning)\n"
     ]
    }
   ],
   "source": [
    "module=sasctl.services.microanalytic_score.get_module('iris3')"
   ]
  },
  {
   "cell_type": "code",
   "execution_count": 30,
   "metadata": {
    "ExecuteTime": {
     "end_time": "2019-09-10T20:30:11.816210Z",
     "start_time": "2019-09-10T20:30:11.739790Z"
    }
   },
   "outputs": [
    {
     "data": {
      "text/plain": [
       "OrderedDict([('var1', 'setosa'), ('rc', 0), ('msg', None)])"
      ]
     },
     "execution_count": 30,
     "metadata": {},
     "output_type": "execute_result"
    }
   ],
   "source": [
    "sasctl.services.microanalytic_score.execute_module_step('iris3','score',**dict(x))"
   ]
  },
  {
   "cell_type": "code",
   "execution_count": null,
   "metadata": {},
   "outputs": [],
   "source": []
  }
 ],
 "metadata": {
  "kernelspec": {
   "display_name": "Python 3",
   "language": "python",
   "name": "python3"
  },
  "language_info": {
   "codemirror_mode": {
    "name": "ipython",
    "version": 3
   },
   "file_extension": ".py",
   "mimetype": "text/x-python",
   "name": "python",
   "nbconvert_exporter": "python",
   "pygments_lexer": "ipython3",
   "version": "3.6.8"
  },
  "varInspector": {
   "cols": {
    "lenName": 16,
    "lenType": 16,
    "lenVar": 40
   },
   "kernels_config": {
    "python": {
     "delete_cmd_postfix": "",
     "delete_cmd_prefix": "del ",
     "library": "var_list.py",
     "varRefreshCmd": "print(var_dic_list())"
    },
    "r": {
     "delete_cmd_postfix": ") ",
     "delete_cmd_prefix": "rm(",
     "library": "var_list.r",
     "varRefreshCmd": "cat(var_dic_list()) "
    }
   },
   "types_to_exclude": [
    "module",
    "function",
    "builtin_function_or_method",
    "instance",
    "_Feature"
   ],
   "window_display": false
  }
 },
 "nbformat": 4,
 "nbformat_minor": 2
}
