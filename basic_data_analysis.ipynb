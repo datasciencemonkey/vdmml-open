{
 "cells": [
  {
   "cell_type": "markdown",
   "metadata": {},
   "source": [
    "###  Why do you need the OPEN APIs?\n",
    "* Maximize the value of your **technology investment**\n",
    "* Collaborate Easily, Centralize Assets, Support Organization Agility!\n",
    "* Quickly access a  **<font color=green>Massively Parallel Distributed, Fault Tolerant High Performance In-Memory Environment </font>** in your **own *\"favorite\"* language from your <u>own preferred interface</u>**\n",
    "* Build custom high quality user experiences that embedding analytics or perform quick adhoc analysis\n",
    "\n",
    "Learn more about how it helps [here](https://www.sas.com/en_us/software/platform/open.html)"
   ]
  },
  {
   "cell_type": "markdown",
   "metadata": {
    "ExecuteTime": {
     "end_time": "2017-05-18T21:42:13.159008",
     "start_time": "2017-05-18T21:42:13.145005"
    }
   },
   "source": [
    "Ok, there is a lot of **value** -- but how do you get started?\n",
    "\n",
    "The rest of this demonstration is centered around this topic of **\"Getting started with basic analysis\"** using Python SWAT for Viya (CAS). The same concepts apply for other languages as well.\n",
    "\n",
    "* User Personas :- Data Scientists, Data Engineers & Application Developers"
   ]
  },
  {
   "cell_type": "markdown",
   "metadata": {},
   "source": [
    "Before we get started, here's a quick recap of **how CAS works with any SWAT package**\n",
    " ><font color=orange>Notice how SWAT Methods are converted into CAS actions under the hood.</font>\n",
    "\n",
    "![alt text](CAS_Access_BasicArchitecture.png \"SWAT-->CAS Actions --> Getting things done\")\n",
    "<font size=2px>Smith, Kevin D.; Meng, Xiangxiang. SAS Viya: The Python Perspective (p. 51). SAS Institute. Kindle Edition.</font>"
   ]
  },
  {
   "cell_type": "markdown",
   "metadata": {
    "ExecuteTime": {
     "end_time": "2017-05-18T22:13:21.554613",
     "start_time": "2017-05-18T22:13:21.541610"
    },
    "collapsed": false
   },
   "source": [
    "Ok, with that out of the way - let's do some simple stuff with SWAT"
   ]
  },
  {
   "cell_type": "markdown",
   "metadata": {},
   "source": [
    "Import the SWAT package and do some house keeping stuff"
   ]
  },
  {
   "cell_type": "code",
   "execution_count": 3,
   "metadata": {
    "ExecuteTime": {
     "end_time": "2017-06-20T11:57:52.346451",
     "start_time": "2017-06-20T11:57:52.329451"
    },
    "collapsed": false
   },
   "outputs": [],
   "source": [
    "import _config,swat\n",
    "from swat.render import render_html\n",
    "import pandas as pd\n",
    "pd.set_option('display.float_format', lambda x: '%.2f' % x)\n",
    "from IPython.display import Image"
   ]
  },
  {
   "cell_type": "markdown",
   "metadata": {},
   "source": [
    "Now, we can login to our CAS server and **<font color=green>connect using REST over http</font>**"
   ]
  },
  {
   "cell_type": "code",
   "execution_count": 4,
   "metadata": {
    "ExecuteTime": {
     "end_time": "2017-06-20T11:58:00.017451",
     "start_time": "2017-06-20T11:57:52.367451"
    },
    "collapsed": false
   },
   "outputs": [],
   "source": [
    "user,pswd = _config.login()\n",
    "host='racesx12131.demo.sas.com'\n",
    "portnum=8777 #REST port\n",
    "conn = swat.CAS(host,portnum,user,pswd,protocol='http')"
   ]
  },
  {
   "cell_type": "markdown",
   "metadata": {},
   "source": [
    "Next we can quickly check what libraries are available to us on this connection string"
   ]
  },
  {
   "cell_type": "code",
   "execution_count": 5,
   "metadata": {
    "ExecuteTime": {
     "end_time": "2017-06-20T11:58:03.811451",
     "start_time": "2017-06-20T11:58:00.021451"
    },
    "collapsed": false,
    "scrolled": false
   },
   "outputs": [
    {
     "data": {
      "text/html": [
       "<div class=\"cas-results-key\"><b>&#167; CASLibInfo</b></div>\n",
       "<div class=\"cas-results-body\">\n",
       "<div>\n",
       "<style>\n",
       "    .dataframe thead tr:only-child th {\n",
       "        text-align: right;\n",
       "    }\n",
       "\n",
       "    .dataframe thead th {\n",
       "        text-align: left;\n",
       "    }\n",
       "\n",
       "    .dataframe tbody tr th {\n",
       "        vertical-align: top;\n",
       "    }\n",
       "</style>\n",
       "<table border=\"1\" class=\"dataframe\">\n",
       "  <thead>\n",
       "    <tr style=\"text-align: right;\">\n",
       "      <th title=\"\"></th>\n",
       "      <th title=\"Name\">Name</th>\n",
       "      <th title=\"Type\">Type</th>\n",
       "      <th title=\"Description\">Description</th>\n",
       "      <th title=\"Path\">Path</th>\n",
       "      <th title=\"Definition\">Definition</th>\n",
       "      <th title=\"Subdirs\">Subdirs</th>\n",
       "      <th title=\"Local\">Local</th>\n",
       "      <th title=\"Active\">Active</th>\n",
       "      <th title=\"Personal\">Personal</th>\n",
       "      <th title=\"Hidden\">Hidden</th>\n",
       "    </tr>\n",
       "  </thead>\n",
       "  <tbody>\n",
       "    <tr>\n",
       "      <th>0</th>\n",
       "      <td>CASUSER(sasdemo)</td>\n",
       "      <td>PATH</td>\n",
       "      <td>Personal File System Caslib</td>\n",
       "      <td>/home/sasdemo/casuser/</td>\n",
       "      <td></td>\n",
       "      <td>1.00</td>\n",
       "      <td>0.00</td>\n",
       "      <td>1.00</td>\n",
       "      <td>1.00</td>\n",
       "      <td>0.00</td>\n",
       "    </tr>\n",
       "    <tr>\n",
       "      <th>1</th>\n",
       "      <td>DemoData</td>\n",
       "      <td>PATH</td>\n",
       "      <td>DemoCenter Shared and writeable caslib, access...</td>\n",
       "      <td>/opt/sasinside/DemoData/</td>\n",
       "      <td></td>\n",
       "      <td>1.00</td>\n",
       "      <td>0.00</td>\n",
       "      <td>0.00</td>\n",
       "      <td>0.00</td>\n",
       "      <td>0.00</td>\n",
       "    </tr>\n",
       "    <tr>\n",
       "      <th>2</th>\n",
       "      <td>Formats</td>\n",
       "      <td>PATH</td>\n",
       "      <td>Stores user defined formats.</td>\n",
       "      <td>/opt/sas/viya/config/data/cas/default/formats/</td>\n",
       "      <td></td>\n",
       "      <td>1.00</td>\n",
       "      <td>0.00</td>\n",
       "      <td>0.00</td>\n",
       "      <td>0.00</td>\n",
       "      <td>0.00</td>\n",
       "    </tr>\n",
       "    <tr>\n",
       "      <th>3</th>\n",
       "      <td>Models</td>\n",
       "      <td>PATH</td>\n",
       "      <td>Stores models created by Visual Analytics for ...</td>\n",
       "      <td>/opt/sas/viya/config/data/cas/default/models/</td>\n",
       "      <td></td>\n",
       "      <td>0.00</td>\n",
       "      <td>0.00</td>\n",
       "      <td>0.00</td>\n",
       "      <td>0.00</td>\n",
       "      <td>0.00</td>\n",
       "    </tr>\n",
       "    <tr>\n",
       "      <th>4</th>\n",
       "      <td>Public</td>\n",
       "      <td>PATH</td>\n",
       "      <td>Shared and writeable caslib, accessible to all...</td>\n",
       "      <td>/opt/sas/viya/config/data/cas/default/public/</td>\n",
       "      <td></td>\n",
       "      <td>1.00</td>\n",
       "      <td>0.00</td>\n",
       "      <td>0.00</td>\n",
       "      <td>0.00</td>\n",
       "      <td>0.00</td>\n",
       "    </tr>\n",
       "    <tr>\n",
       "      <th>5</th>\n",
       "      <td>SystemData</td>\n",
       "      <td>PATH</td>\n",
       "      <td>Stores application generated data, used for ge...</td>\n",
       "      <td>/opt/sas/viya/config/data/cas/default/sysData/</td>\n",
       "      <td></td>\n",
       "      <td>0.00</td>\n",
       "      <td>0.00</td>\n",
       "      <td>0.00</td>\n",
       "      <td>0.00</td>\n",
       "      <td>0.00</td>\n",
       "    </tr>\n",
       "    <tr>\n",
       "      <th>6</th>\n",
       "      <td>TinyData</td>\n",
       "      <td>PATH</td>\n",
       "      <td>DemoCenter Shared and writeable caslib, access...</td>\n",
       "      <td>/opt/sasinside/DemoData/TinyData/</td>\n",
       "      <td></td>\n",
       "      <td>1.00</td>\n",
       "      <td>0.00</td>\n",
       "      <td>0.00</td>\n",
       "      <td>0.00</td>\n",
       "      <td>0.00</td>\n",
       "    </tr>\n",
       "  </tbody>\n",
       "</table>\n",
       "</div>\n",
       "</div>\n",
       "<div class=\"cas-output-area\"></div>\n",
       "<p class=\"cas-results-performance\"><small><span class=\"cas-elapsed\">elapsed 0.000386s</span> &#183; <span class=\"cas-memory\">mem 0.0699MB</span></small></p>"
      ],
      "text/plain": [
       "[CASLibInfo]\n",
       "\n",
       "                Name  Type                                        Description  \\\n",
       " 0  CASUSER(sasdemo)  PATH                        Personal File System Caslib   \n",
       " 1          DemoData  PATH  DemoCenter Shared and writeable caslib, access...   \n",
       " 2           Formats  PATH                       Stores user defined formats.   \n",
       " 3            Models  PATH  Stores models created by Visual Analytics for ...   \n",
       " 4            Public  PATH  Shared and writeable caslib, accessible to all...   \n",
       " 5        SystemData  PATH  Stores application generated data, used for ge...   \n",
       " 6          TinyData  PATH  DemoCenter Shared and writeable caslib, access...   \n",
       " \n",
       "                                              Path Definition  Subdirs  Local  \\\n",
       " 0                          /home/sasdemo/casuser/                1.00   0.00   \n",
       " 1                        /opt/sasinside/DemoData/                1.00   0.00   \n",
       " 2  /opt/sas/viya/config/data/cas/default/formats/                1.00   0.00   \n",
       " 3   /opt/sas/viya/config/data/cas/default/models/                0.00   0.00   \n",
       " 4   /opt/sas/viya/config/data/cas/default/public/                1.00   0.00   \n",
       " 5  /opt/sas/viya/config/data/cas/default/sysData/                0.00   0.00   \n",
       " 6               /opt/sasinside/DemoData/TinyData/                1.00   0.00   \n",
       " \n",
       "    Active  Personal  Hidden  \n",
       " 0    1.00      1.00    0.00  \n",
       " 1    0.00      0.00    0.00  \n",
       " 2    0.00      0.00    0.00  \n",
       " 3    0.00      0.00    0.00  \n",
       " 4    0.00      0.00    0.00  \n",
       " 5    0.00      0.00    0.00  \n",
       " 6    0.00      0.00    0.00  \n",
       "\n",
       "+ Elapsed: 0.000386s, mem: 0.0699mb"
      ]
     },
     "execution_count": 5,
     "metadata": {},
     "output_type": "execute_result"
    }
   ],
   "source": [
    "conn.caslibinfo()"
   ]
  },
  {
   "cell_type": "code",
   "execution_count": 6,
   "metadata": {
    "ExecuteTime": {
     "end_time": "2017-06-20T11:58:04.449451",
     "start_time": "2017-06-20T11:58:03.820451"
    },
    "collapsed": false
   },
   "outputs": [
    {
     "data": {
      "text/html": [
       "<div class=\"cas-results-key\"><b>&#167; FileInfo</b></div>\n",
       "<div class=\"cas-results-body\">\n",
       "<div>\n",
       "<style>\n",
       "    .dataframe thead tr:only-child th {\n",
       "        text-align: right;\n",
       "    }\n",
       "\n",
       "    .dataframe thead th {\n",
       "        text-align: left;\n",
       "    }\n",
       "\n",
       "    .dataframe tbody tr th {\n",
       "        vertical-align: top;\n",
       "    }\n",
       "</style>\n",
       "<table border=\"1\" class=\"dataframe\">\n",
       "  <thead>\n",
       "    <tr style=\"text-align: right;\">\n",
       "      <th title=\"\"></th>\n",
       "      <th title=\"Permission\">Permission</th>\n",
       "      <th title=\"Owner\">Owner</th>\n",
       "      <th title=\"Group\">Group</th>\n",
       "      <th title=\"Name\">Name</th>\n",
       "      <th title=\"Size of File in Bytes\">Size</th>\n",
       "      <th title=\"Encryption Method\">Encryption</th>\n",
       "      <th title=\"Time\">Time</th>\n",
       "    </tr>\n",
       "  </thead>\n",
       "  <tbody>\n",
       "    <tr>\n",
       "      <th>0</th>\n",
       "      <td>-rw-r--r--</td>\n",
       "      <td>sasdemo</td>\n",
       "      <td>sas</td>\n",
       "      <td>the_big_gile.sashdat</td>\n",
       "      <td>2602152</td>\n",
       "      <td>NONE</td>\n",
       "      <td>06Jun2017:19:56:37</td>\n",
       "    </tr>\n",
       "    <tr>\n",
       "      <th>1</th>\n",
       "      <td>-rw-r--r--</td>\n",
       "      <td>sasdemo</td>\n",
       "      <td>sas</td>\n",
       "      <td>cardata.sas7bdat</td>\n",
       "      <td>204603392</td>\n",
       "      <td></td>\n",
       "      <td>20Jun2017:02:13:33</td>\n",
       "    </tr>\n",
       "    <tr>\n",
       "      <th>2</th>\n",
       "      <td>-rwxr-xr-x</td>\n",
       "      <td>sasdemo</td>\n",
       "      <td>sas</td>\n",
       "      <td>Prepped_cust_base_table.sashdat</td>\n",
       "      <td>103480</td>\n",
       "      <td>NONE</td>\n",
       "      <td>18May2017:14:13:06</td>\n",
       "    </tr>\n",
       "    <tr>\n",
       "      <th>3</th>\n",
       "      <td>-rwxr-xr-x</td>\n",
       "      <td>sasdemo</td>\n",
       "      <td>sas</td>\n",
       "      <td>test_save1.sashdat</td>\n",
       "      <td>9136</td>\n",
       "      <td>NONE</td>\n",
       "      <td>19May2017:14:53:49</td>\n",
       "    </tr>\n",
       "    <tr>\n",
       "      <th>4</th>\n",
       "      <td>drwxr-xr-x</td>\n",
       "      <td>sasdemo</td>\n",
       "      <td>sas</td>\n",
       "      <td>test_dir</td>\n",
       "      <td>4096</td>\n",
       "      <td></td>\n",
       "      <td>06Jun2017:20:00:35</td>\n",
       "    </tr>\n",
       "    <tr>\n",
       "      <th>5</th>\n",
       "      <td>-rwxr-xr-x</td>\n",
       "      <td>sasdemo</td>\n",
       "      <td>sas</td>\n",
       "      <td>mov_rec_va.sashdat</td>\n",
       "      <td>1849152</td>\n",
       "      <td>NONE</td>\n",
       "      <td>18Apr2017:18:31:43</td>\n",
       "    </tr>\n",
       "  </tbody>\n",
       "</table>\n",
       "</div>\n",
       "</div>\n",
       "<div class=\"cas-output-area\"></div>\n",
       "<p class=\"cas-results-performance\"><small><span class=\"cas-elapsed\">elapsed 0.118s</span> &#183; <span class=\"cas-user\">user 0.001s</span> &#183; <span class=\"cas-sys\">sys 0.001s</span> &#183; <span class=\"cas-memory\">mem 0.0828MB</span></small></p>"
      ],
      "text/plain": [
       "[FileInfo]\n",
       "\n",
       "    Permission    Owner Group                             Name       Size  \\\n",
       " 0  -rw-r--r--  sasdemo   sas             the_big_gile.sashdat    2602152   \n",
       " 1  -rw-r--r--  sasdemo   sas                 cardata.sas7bdat  204603392   \n",
       " 2  -rwxr-xr-x  sasdemo   sas  Prepped_cust_base_table.sashdat     103480   \n",
       " 3  -rwxr-xr-x  sasdemo   sas               test_save1.sashdat       9136   \n",
       " 4  drwxr-xr-x  sasdemo   sas                         test_dir       4096   \n",
       " 5  -rwxr-xr-x  sasdemo   sas               mov_rec_va.sashdat    1849152   \n",
       " \n",
       "   Encryption                Time  \n",
       " 0       NONE  06Jun2017:19:56:37  \n",
       " 1             20Jun2017:02:13:33  \n",
       " 2       NONE  18May2017:14:13:06  \n",
       " 3       NONE  19May2017:14:53:49  \n",
       " 4             06Jun2017:20:00:35  \n",
       " 5       NONE  18Apr2017:18:31:43  \n",
       "\n",
       "+ Elapsed: 0.118s, user: 0.001s, sys: 0.001s, mem: 0.0828mb"
      ]
     },
     "execution_count": 6,
     "metadata": {},
     "output_type": "execute_result"
    }
   ],
   "source": [
    "conn.fileinfo(caslib='casuser') #list everything in the path"
   ]
  },
  {
   "cell_type": "markdown",
   "metadata": {},
   "source": [
    "Load the file in the path into the CAS library using the load table action"
   ]
  },
  {
   "cell_type": "raw",
   "metadata": {},
   "source": [
    "\n",
    "out = conn.loadtable('cardata.sas7bdat', casout = dict(name='CARDATA',caslib='casuser'))"
   ]
  },
  {
   "cell_type": "markdown",
   "metadata": {},
   "source": [
    "Investigate the `out` variable - what you'll see is that it returns a CASResults Object"
   ]
  },
  {
   "cell_type": "code",
   "execution_count": 7,
   "metadata": {
    "ExecuteTime": {
     "end_time": "2017-06-20T11:58:04.501451",
     "start_time": "2017-06-20T11:58:04.454451"
    },
    "collapsed": false
   },
   "outputs": [
    {
     "ename": "NameError",
     "evalue": "name 'out' is not defined",
     "output_type": "error",
     "traceback": [
      "\u001b[1;31m---------------------------------------------------------------------------\u001b[0m",
      "\u001b[1;31mNameError\u001b[0m                                 Traceback (most recent call last)",
      "\u001b[1;32m<ipython-input-7-fb7792b6596f>\u001b[0m in \u001b[0;36m<module>\u001b[1;34m()\u001b[0m\n\u001b[1;32m----> 1\u001b[1;33m \u001b[0mout\u001b[0m\u001b[1;33m\u001b[0m\u001b[0m\n\u001b[0m",
      "\u001b[1;31mNameError\u001b[0m: name 'out' is not defined"
     ]
    }
   ],
   "source": [
    "out"
   ]
  },
  {
   "cell_type": "markdown",
   "metadata": {},
   "source": [
    "You can subset the CASResults Object just like a regular python ordered dict"
   ]
  },
  {
   "cell_type": "code",
   "execution_count": null,
   "metadata": {
    "ExecuteTime": {
     "end_time": "2017-06-20T11:58:04.502451",
     "start_time": "2017-06-20T18:57:52.412Z"
    },
    "collapsed": false
   },
   "outputs": [],
   "source": [
    "out = out.casTable"
   ]
  },
  {
   "cell_type": "markdown",
   "metadata": {},
   "source": [
    "*To get a quick sneak peek at the data set*\n",
    "    * Use the SWAT approach with the fetch action\n",
    "    OR\n",
    "    * Use the pandas .head() method"
   ]
  },
  {
   "cell_type": "code",
   "execution_count": null,
   "metadata": {
    "ExecuteTime": {
     "end_time": "2017-06-20T11:58:04.504451",
     "start_time": "2017-06-20T18:57:52.416Z"
    },
    "collapsed": false,
    "scrolled": false
   },
   "outputs": [],
   "source": [
    "out.fetch(to=5)"
   ]
  },
  {
   "cell_type": "code",
   "execution_count": null,
   "metadata": {
    "ExecuteTime": {
     "end_time": "2017-06-20T11:58:04.505451",
     "start_time": "2017-06-20T18:57:52.420Z"
    },
    "collapsed": false
   },
   "outputs": [],
   "source": [
    "out.head()"
   ]
  },
  {
   "cell_type": "markdown",
   "metadata": {},
   "source": [
    "Nice Utility Function to work in the Notebook Environment"
   ]
  },
  {
   "cell_type": "code",
   "execution_count": null,
   "metadata": {
    "ExecuteTime": {
     "end_time": "2017-06-20T11:58:04.507451",
     "start_time": "2017-06-20T18:57:52.424Z"
    },
    "collapsed": false,
    "scrolled": true
   },
   "outputs": [],
   "source": [
    "#from IPython.display import HTML\n",
    "#HTML(out.head().to_html())\n",
    "from swat.render import render_html\n",
    "render_html(out.head())"
   ]
  },
  {
   "cell_type": "markdown",
   "metadata": {},
   "source": [
    "We can easily check some table properties"
   ]
  },
  {
   "cell_type": "code",
   "execution_count": null,
   "metadata": {
    "ExecuteTime": {
     "end_time": "2017-06-20T11:58:04.514451",
     "start_time": "2017-06-20T18:57:52.428Z"
    },
    "collapsed": false
   },
   "outputs": [],
   "source": [
    "#conn.tableinfo(name='CARDATA')\n",
    "out.tableinfo()"
   ]
  },
  {
   "cell_type": "markdown",
   "metadata": {},
   "source": [
    "And the table's column properties"
   ]
  },
  {
   "cell_type": "code",
   "execution_count": null,
   "metadata": {
    "ExecuteTime": {
     "end_time": "2017-06-20T11:58:04.519451",
     "start_time": "2017-06-20T18:57:52.434Z"
    },
    "collapsed": false
   },
   "outputs": [],
   "source": [
    "out.columninfo()\n",
    "#conn.columninfo('CARDATA')"
   ]
  },
  {
   "cell_type": "markdown",
   "metadata": {},
   "source": [
    "Let's get some summary statistics!"
   ]
  },
  {
   "cell_type": "code",
   "execution_count": null,
   "metadata": {
    "ExecuteTime": {
     "end_time": "2017-06-20T11:58:04.521451",
     "start_time": "2017-06-20T18:57:52.438Z"
    },
    "collapsed": false
   },
   "outputs": [],
   "source": [
    "out.summary()"
   ]
  },
  {
   "cell_type": "markdown",
   "metadata": {},
   "source": [
    "And again, the pandas way works too! "
   ]
  },
  {
   "cell_type": "code",
   "execution_count": null,
   "metadata": {
    "ExecuteTime": {
     "end_time": "2017-06-20T11:58:04.523451",
     "start_time": "2017-06-20T18:57:52.442Z"
    },
    "collapsed": false,
    "scrolled": false
   },
   "outputs": [],
   "source": [
    "#out.describe(percentiles=[i/100 for i in range(0,100,5)]).to_csv('file.csv')\n",
    "out.describe(percentiles=[i/100 for i in range(0,100,5)])"
   ]
  },
  {
   "cell_type": "code",
   "execution_count": null,
   "metadata": {
    "ExecuteTime": {
     "end_time": "2017-06-20T11:58:04.524451",
     "start_time": "2017-06-20T18:57:52.447Z"
    },
    "collapsed": false,
    "scrolled": true
   },
   "outputs": [],
   "source": [
    "conn.droptable(name='CARDATA', caslib='casuser')"
   ]
  },
  {
   "cell_type": "code",
   "execution_count": null,
   "metadata": {
    "ExecuteTime": {
     "end_time": "2017-06-20T11:58:04.525451",
     "start_time": "2017-06-20T18:57:52.451Z"
    },
    "collapsed": true
   },
   "outputs": [],
   "source": [
    "conn.close()"
   ]
  },
  {
   "cell_type": "markdown",
   "metadata": {
    "ExecuteTime": {
     "end_time": "2017-05-15T21:12:46.360321",
     "start_time": "2017-05-15T21:12:46.349320"
    }
   },
   "source": [
    "#### To learn more about the python SWAT API - check out the following resources"
   ]
  },
  {
   "cell_type": "markdown",
   "metadata": {
    "ExecuteTime": {
     "end_time": "2017-05-18T22:29:57.461754",
     "start_time": "2017-05-18T22:29:57.234209"
    },
    "collapsed": false
   },
   "source": [
    "![alt text](https://www.sas.com/storefront/aux/en/splcpython/69194_thumbnailcover.jpg)"
   ]
  },
  {
   "cell_type": "markdown",
   "metadata": {
    "ExecuteTime": {
     "end_time": "2017-05-15T21:16:20.800763",
     "start_time": "2017-05-15T21:16:20.793763"
    }
   },
   "source": [
    "* Install the client library with a pip install\n",
    "* Get the documenation of the swat package on https://sassoftware.github.io/python-swat/\n",
    "* Developing applications with SAS Viya (Java,R,Python,Lua,REST) - [developer.sas.com](https://developer.sas.com)\n",
    "* Follow **[SAS Software on github](https://github.com/sassoftware)**"
   ]
  }
 ],
 "metadata": {
  "hide_input": false,
  "kernelspec": {
   "display_name": "Python 3",
   "language": "python",
   "name": "python3"
  },
  "language_info": {
   "codemirror_mode": {
    "name": "ipython",
    "version": 3
   },
   "file_extension": ".py",
   "mimetype": "text/x-python",
   "name": "python",
   "nbconvert_exporter": "python",
   "pygments_lexer": "ipython3",
   "version": "3.5.1"
  },
  "varInspector": {
   "cols": {
    "lenName": 16,
    "lenType": 16,
    "lenVar": 40
   },
   "kernels_config": {
    "python": {
     "delete_cmd_postfix": "",
     "delete_cmd_prefix": "del ",
     "library": "var_list.py",
     "varRefreshCmd": "print(var_dic_list())"
    },
    "r": {
     "delete_cmd_postfix": ") ",
     "delete_cmd_prefix": "rm(",
     "library": "var_list.r",
     "varRefreshCmd": "cat(var_dic_list()) "
    }
   },
   "types_to_exclude": [
    "module",
    "function",
    "builtin_function_or_method",
    "instance",
    "_Feature"
   ],
   "window_display": false
  }
 },
 "nbformat": 4,
 "nbformat_minor": 0
}
