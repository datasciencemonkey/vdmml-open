{
 "cells": [
  {
   "cell_type": "code",
   "execution_count": 1,
   "metadata": {
    "ExecuteTime": {
     "end_time": "2019-09-12T17:48:10.628134Z",
     "start_time": "2019-09-12T17:48:07.600139Z"
    }
   },
   "outputs": [],
   "source": [
    "import swat,pygal\n",
    "from _config import container_18wk47_login, container_19wk21_login,container_xl_19wk21_login\n",
    "import numpy as np\n",
    "import pandas as pd\n",
    "pd.set_option('display.float_format', lambda x: '%.2f' % x)\n",
    "from matplotlib import pyplot as plt\n",
    "%matplotlib inline\n",
    "from plotnine import *\n",
    "import os, time\n",
    "%reload_ext autoreload\n",
    "%autoreload 2\n",
    "from dlpy import Model, Sequential\n",
    "from dlpy.model import Optimizer, AdamSolver\n",
    "from dlpy.layers import * \n",
    "from dlpy.splitting import two_way_split,three_way_split\n",
    "from dlpy.metrics import (accuracy_score, confusion_matrix, plot_roc, \n",
    "                          plot_precision_recall, roc_auc_score, f1_score, average_precision_score)"
   ]
  },
  {
   "cell_type": "code",
   "execution_count": 2,
   "metadata": {
    "ExecuteTime": {
     "end_time": "2019-09-12T17:48:12.569087Z",
     "start_time": "2019-09-12T17:48:12.145211Z"
    }
   },
   "outputs": [
    {
     "name": "stdout",
     "output_type": "stream",
     "text": [
      "NOTE: 'CASUSER(sasdemo)' is now the active caslib.\n"
     ]
    },
    {
     "data": {
      "text/html": [
       "<div class=\"cas-output-area\"></div>\n",
       "<p class=\"cas-results-performance\"><small><span class=\"cas-elapsed\">elapsed 0.000697s</span> &#183; <span class=\"cas-sys\">sys 0.000659s</span> &#183; <span class=\"cas-memory\">mem 0.23MB</span></small></p>"
      ],
      "text/plain": [
       "+ Elapsed: 0.000697s, sys: 0.000659s, mem: 0.23mb"
      ]
     },
     "execution_count": 2,
     "metadata": {},
     "output_type": "execute_result"
    }
   ],
   "source": [
    "#Connect to the CAS Server\n",
    "\n",
    "host = container_xl_19wk21_login()[2]\n",
    "user = container_xl_19wk21_login()[0]\n",
    "pswd = container_xl_19wk21_login()[1]\n",
    "sess = swat.CAS(host,5570,user,pswd)\n",
    "\n",
    "# conn.about()\n",
    "\n",
    "# conn = swat.CAS(login()[2],8777,login()[0],login()[1],protocol=\"http\")\n",
    "sess.setsessopt(caslib=\"casuser\")"
   ]
  },
  {
   "cell_type": "code",
   "execution_count": 3,
   "metadata": {
    "ExecuteTime": {
     "end_time": "2019-09-12T17:48:23.706331Z",
     "start_time": "2019-09-12T17:48:23.081175Z"
    }
   },
   "outputs": [
    {
     "name": "stdout",
     "output_type": "stream",
     "text": [
      "NOTE: Cloud Analytic Services made the uploaded file available as table CHURN in caslib CASUSER(sasdemo).\n",
      "NOTE: The table CHURN has been created in caslib CASUSER(sasdemo) from binary data uploaded to Cloud Analytic Services.\n",
      "NOTE: Added action set 'fedSQL'.\n",
      "NOTE: Table CHURN was created in caslib CASUSER(sasdemo) with 3333 rows returned.\n"
     ]
    }
   ],
   "source": [
    "churn_df=pd.read_csv('churn.csv')\n",
    "churn_df.columns = [i.replace(' ','_').replace(\"'\",'').lower() for i in churn_df.columns]\n",
    "out=sess.upload(churn_df,casout=dict(name='churn',caslib='casuser'))\n",
    "#Enable SQL actions - for distributed SQL\n",
    "sess.loadactionset('fedSQL')\n",
    "out=out.casTable\n",
    "#programmatically build query\n",
    "col_list= [i for i in out.columns if i not in ('area_code','churn','intl_plan','vmail_plan')]\n",
    "cas_lib='casuser'\n",
    "option_params='{options replace=true}'\n",
    "query = \"\"\"create table {}.churn {} as select {}, \n",
    "cast(intl_plan as char) as intl_plan,\n",
    "cast(vmail_plan as char) as vmail_plan,\n",
    "cast(area_code as varchar) as area_code,\n",
    "cast(churn as varchar) as churn\n",
    "from casuser.churn \"\"\".format(cas_lib,\n",
    "                              option_params,\n",
    "                              col_list).replace('[','').replace(']','').replace(\"'\",'')\n",
    "\n",
    "#execute query and check the results\n",
    "sess.fedsql.execdirect(query) # run the query\n",
    "out = sess.CASTable('CHURN', caslib ='casuser') #get the results"
   ]
  },
  {
   "cell_type": "code",
   "execution_count": 4,
   "metadata": {
    "ExecuteTime": {
     "end_time": "2019-09-12T17:48:25.974698Z",
     "start_time": "2019-09-12T17:48:25.861863Z"
    }
   },
   "outputs": [
    {
     "data": {
      "text/html": [
       "<div>\n",
       "<style scoped>\n",
       "    .dataframe tbody tr th:only-of-type {\n",
       "        vertical-align: middle;\n",
       "    }\n",
       "\n",
       "    .dataframe tbody tr th {\n",
       "        vertical-align: top;\n",
       "    }\n",
       "\n",
       "    .dataframe thead th {\n",
       "        text-align: right;\n",
       "    }\n",
       "</style>\n",
       "<table border=\"1\" class=\"dataframe\"><caption>Selected Rows from Table CHURN</caption>\n",
       "  <thead>\n",
       "    <tr style=\"text-align: right;\">\n",
       "      <th title=\"\"></th>\n",
       "      <th title=\"account_length\">account_length</th>\n",
       "      <th title=\"vmail_message\">vmail_message</th>\n",
       "      <th title=\"day_mins\">day_mins</th>\n",
       "      <th title=\"eve_mins\">eve_mins</th>\n",
       "      <th title=\"night_mins\">night_mins</th>\n",
       "      <th title=\"intl_mins\">intl_mins</th>\n",
       "      <th title=\"custserv_calls\">custserv_calls</th>\n",
       "      <th title=\"day_calls\">day_calls</th>\n",
       "      <th title=\"day_charge\">day_charge</th>\n",
       "      <th title=\"eve_calls\">eve_calls</th>\n",
       "      <th title=\"...\">...</th>\n",
       "      <th title=\"night_calls\">night_calls</th>\n",
       "      <th title=\"night_charge\">night_charge</th>\n",
       "      <th title=\"intl_calls\">intl_calls</th>\n",
       "      <th title=\"intl_charge\">intl_charge</th>\n",
       "      <th title=\"state\">state</th>\n",
       "      <th title=\"phone\">phone</th>\n",
       "      <th title=\"INTL_PLAN\">INTL_PLAN</th>\n",
       "      <th title=\"VMAIL_PLAN\">VMAIL_PLAN</th>\n",
       "      <th title=\"AREA_CODE\">AREA_CODE</th>\n",
       "      <th title=\"CHURN\">CHURN</th>\n",
       "    </tr>\n",
       "  </thead>\n",
       "  <tbody>\n",
       "    <tr>\n",
       "      <th>0</th>\n",
       "      <td>128.00</td>\n",
       "      <td>25.00</td>\n",
       "      <td>265.10</td>\n",
       "      <td>197.40</td>\n",
       "      <td>244.70</td>\n",
       "      <td>10.00</td>\n",
       "      <td>1.00</td>\n",
       "      <td>110.00</td>\n",
       "      <td>45.07</td>\n",
       "      <td>99.00</td>\n",
       "      <td>...</td>\n",
       "      <td>91.00</td>\n",
       "      <td>11.01</td>\n",
       "      <td>3.00</td>\n",
       "      <td>2.70</td>\n",
       "      <td>KS</td>\n",
       "      <td>382-4657</td>\n",
       "      <td>0</td>\n",
       "      <td>1</td>\n",
       "      <td>415</td>\n",
       "      <td>0</td>\n",
       "    </tr>\n",
       "    <tr>\n",
       "      <th>1</th>\n",
       "      <td>107.00</td>\n",
       "      <td>26.00</td>\n",
       "      <td>161.60</td>\n",
       "      <td>195.50</td>\n",
       "      <td>254.40</td>\n",
       "      <td>13.70</td>\n",
       "      <td>1.00</td>\n",
       "      <td>123.00</td>\n",
       "      <td>27.47</td>\n",
       "      <td>103.00</td>\n",
       "      <td>...</td>\n",
       "      <td>103.00</td>\n",
       "      <td>11.45</td>\n",
       "      <td>3.00</td>\n",
       "      <td>3.70</td>\n",
       "      <td>OH</td>\n",
       "      <td>371-7191</td>\n",
       "      <td>0</td>\n",
       "      <td>1</td>\n",
       "      <td>415</td>\n",
       "      <td>0</td>\n",
       "    </tr>\n",
       "    <tr>\n",
       "      <th>2</th>\n",
       "      <td>137.00</td>\n",
       "      <td>0.00</td>\n",
       "      <td>243.40</td>\n",
       "      <td>121.20</td>\n",
       "      <td>162.60</td>\n",
       "      <td>12.20</td>\n",
       "      <td>0.00</td>\n",
       "      <td>114.00</td>\n",
       "      <td>41.38</td>\n",
       "      <td>110.00</td>\n",
       "      <td>...</td>\n",
       "      <td>104.00</td>\n",
       "      <td>7.32</td>\n",
       "      <td>5.00</td>\n",
       "      <td>3.29</td>\n",
       "      <td>NJ</td>\n",
       "      <td>358-1921</td>\n",
       "      <td>0</td>\n",
       "      <td>0</td>\n",
       "      <td>415</td>\n",
       "      <td>0</td>\n",
       "    </tr>\n",
       "    <tr>\n",
       "      <th>3</th>\n",
       "      <td>84.00</td>\n",
       "      <td>0.00</td>\n",
       "      <td>299.40</td>\n",
       "      <td>61.90</td>\n",
       "      <td>196.90</td>\n",
       "      <td>6.60</td>\n",
       "      <td>2.00</td>\n",
       "      <td>71.00</td>\n",
       "      <td>50.90</td>\n",
       "      <td>88.00</td>\n",
       "      <td>...</td>\n",
       "      <td>89.00</td>\n",
       "      <td>8.86</td>\n",
       "      <td>7.00</td>\n",
       "      <td>1.78</td>\n",
       "      <td>OH</td>\n",
       "      <td>375-9999</td>\n",
       "      <td>1</td>\n",
       "      <td>0</td>\n",
       "      <td>408</td>\n",
       "      <td>0</td>\n",
       "    </tr>\n",
       "    <tr>\n",
       "      <th>4</th>\n",
       "      <td>75.00</td>\n",
       "      <td>0.00</td>\n",
       "      <td>166.70</td>\n",
       "      <td>148.30</td>\n",
       "      <td>186.90</td>\n",
       "      <td>10.10</td>\n",
       "      <td>3.00</td>\n",
       "      <td>113.00</td>\n",
       "      <td>28.34</td>\n",
       "      <td>122.00</td>\n",
       "      <td>...</td>\n",
       "      <td>121.00</td>\n",
       "      <td>8.41</td>\n",
       "      <td>3.00</td>\n",
       "      <td>2.73</td>\n",
       "      <td>OK</td>\n",
       "      <td>330-6626</td>\n",
       "      <td>1</td>\n",
       "      <td>0</td>\n",
       "      <td>415</td>\n",
       "      <td>0</td>\n",
       "    </tr>\n",
       "  </tbody>\n",
       "</table>\n",
       "<p>5 rows × 21 columns</p>\n",
       "</div>"
      ],
      "text/plain": [
       "Selected Rows from Table CHURN\n",
       "\n",
       "   account_length  vmail_message  day_mins  eve_mins  night_mins  intl_mins  \\\n",
       "0          128.00          25.00    265.10    197.40      244.70      10.00   \n",
       "1          107.00          26.00    161.60    195.50      254.40      13.70   \n",
       "2          137.00           0.00    243.40    121.20      162.60      12.20   \n",
       "3           84.00           0.00    299.40     61.90      196.90       6.60   \n",
       "4           75.00           0.00    166.70    148.30      186.90      10.10   \n",
       "\n",
       "   custserv_calls  day_calls  day_charge  eve_calls  ...   night_calls  \\\n",
       "0            1.00     110.00       45.07      99.00  ...         91.00   \n",
       "1            1.00     123.00       27.47     103.00  ...        103.00   \n",
       "2            0.00     114.00       41.38     110.00  ...        104.00   \n",
       "3            2.00      71.00       50.90      88.00  ...         89.00   \n",
       "4            3.00     113.00       28.34     122.00  ...        121.00   \n",
       "\n",
       "   night_charge  intl_calls  intl_charge  state     phone INTL_PLAN  \\\n",
       "0         11.01        3.00         2.70     KS  382-4657         0   \n",
       "1         11.45        3.00         3.70     OH  371-7191         0   \n",
       "2          7.32        5.00         3.29     NJ  358-1921         0   \n",
       "3          8.86        7.00         1.78     OH  375-9999         1   \n",
       "4          8.41        3.00         2.73     OK  330-6626         1   \n",
       "\n",
       "  VMAIL_PLAN AREA_CODE CHURN  \n",
       "0          1       415     0  \n",
       "1          1       415     0  \n",
       "2          0       415     0  \n",
       "3          0       408     0  \n",
       "4          0       415     0  \n",
       "\n",
       "[5 rows x 21 columns]"
      ]
     },
     "execution_count": 4,
     "metadata": {},
     "output_type": "execute_result"
    }
   ],
   "source": [
    "out.head()"
   ]
  },
  {
   "cell_type": "code",
   "execution_count": 5,
   "metadata": {
    "ExecuteTime": {
     "end_time": "2019-09-12T17:48:33.025266Z",
     "start_time": "2019-09-12T17:48:32.968159Z"
    }
   },
   "outputs": [],
   "source": [
    "noms={'area_code','churn','intl_plan','vmail_plan'}\n",
    "int_vars={'account_length', 'custserv_calls', 'day_calls', 'day_charge', 'day_mins', 'eve_calls',\n",
    "          'eve_charge', 'eve_mins', 'intl_calls', 'intl_charge', 'intl_mins', \n",
    "          'night_calls','night_charge', 'night_mins', 'vmail_message', }\n",
    "effect_vars={'area_code','account_length', 'custserv_calls', 'day_calls', 'day_charge', \n",
    "             'day_mins', 'eve_calls','eve_charge', 'eve_mins', 'intl_calls', \n",
    "             'intl_charge', 'intl_mins', 'intl_plan','night_calls','night_charge',\n",
    "             'night_mins', 'vmail_message', 'vmail_plan'}"
   ]
  },
  {
   "cell_type": "code",
   "execution_count": 6,
   "metadata": {
    "ExecuteTime": {
     "end_time": "2019-09-12T17:48:34.178999Z",
     "start_time": "2019-09-12T17:48:34.126534Z"
    }
   },
   "outputs": [
    {
     "data": {
      "text/plain": [
       "0    2850\n",
       "1     483\n",
       "Name: churn, dtype: int64"
      ]
     },
     "execution_count": 6,
     "metadata": {},
     "output_type": "execute_result"
    }
   ],
   "source": [
    "churn_df.churn.value_counts()"
   ]
  },
  {
   "cell_type": "code",
   "execution_count": 7,
   "metadata": {
    "ExecuteTime": {
     "end_time": "2019-09-12T17:48:36.604786Z",
     "start_time": "2019-09-12T17:48:36.312359Z"
    }
   },
   "outputs": [],
   "source": [
    "train_tbl, test_tbl = two_way_split(out, test_rate=20, seed=1234, stratify=True, stratify_by='CHURN', im_table=False)"
   ]
  },
  {
   "cell_type": "code",
   "execution_count": 8,
   "metadata": {
    "ExecuteTime": {
     "end_time": "2019-09-12T17:49:38.468509Z",
     "start_time": "2019-09-12T17:49:37.764664Z"
    }
   },
   "outputs": [
    {
     "name": "stdout",
     "output_type": "stream",
     "text": [
      "NOTE: Input layer added.\n",
      "NOTE: Fully-connected layer added.\n",
      "NOTE: Output layer added.\n",
      "NOTE: Model compiled successfully.\n"
     ]
    }
   ],
   "source": [
    "model1 = Sequential(sess, model_table=sess.CASTable('simple_fcnn_classifier', replace=True))\n",
    "model1.add(InputLayer(std='STD'))\n",
    "model1.add(Dense(30, act='relu'))\n",
    "model1.add(OutputLayer(act='softmax', n=2,  error='entropy'))"
   ]
  },
  {
   "cell_type": "code",
   "execution_count": 9,
   "metadata": {
    "ExecuteTime": {
     "end_time": "2019-09-12T17:49:40.202382Z",
     "start_time": "2019-09-12T17:49:40.044891Z"
    }
   },
   "outputs": [
    {
     "data": {
      "image/svg+xml": [
       "<?xml version=\"1.0\" encoding=\"UTF-8\" standalone=\"no\"?>\n",
       "<!DOCTYPE svg PUBLIC \"-//W3C//DTD SVG 1.1//EN\"\n",
       " \"http://www.w3.org/Graphics/SVG/1.1/DTD/svg11.dtd\">\n",
       "<!-- Generated by graphviz version 2.30.1 (20150306.0020)\n",
       " -->\n",
       "<!-- Title: simple_fcnn_classifier Pages: 1 -->\n",
       "<svg width=\"164pt\" height=\"176pt\"\n",
       " viewBox=\"0.00 0.00 164.00 176.00\" xmlns=\"http://www.w3.org/2000/svg\" xmlns:xlink=\"http://www.w3.org/1999/xlink\">\n",
       "<g id=\"graph0\" class=\"graph\" transform=\"scale(1 1) rotate(0) translate(4 172)\">\n",
       "<title>simple_fcnn_classifier</title>\n",
       "<polygon fill=\"white\" stroke=\"white\" points=\"-4,5 -4,-172 161,-172 161,5 -4,5\"/>\n",
       "<!-- Input1 -->\n",
       "<g id=\"node1\" class=\"node\"><title>Input1</title>\n",
       "<polygon fill=\"#3288bd\" fill-opacity=\"0.250980\" stroke=\"#3288bd\" points=\"26,-145 26,-167 130,-167 130,-145 26,-145\"/>\n",
       "<text text-anchor=\"middle\" x=\"78\" y=\"-152.3\" font-family=\"Helvetica,sans-Serif\" font-size=\"14.00\">Input1(input)</text>\n",
       "</g>\n",
       "<!-- F.C.1 -->\n",
       "<g id=\"node2\" class=\"node\"><title>F.C.1</title>\n",
       "<polygon fill=\"#ffffbf\" fill-opacity=\"0.250980\" stroke=\"#aeae82\" points=\"21,-73 21,-95 135,-95 135,-73 21,-73\"/>\n",
       "<text text-anchor=\"middle\" x=\"78\" y=\"-80.3\" font-family=\"Helvetica,sans-Serif\" font-size=\"14.00\">0x30 F.C.1(fc)</text>\n",
       "</g>\n",
       "<!-- Input1&#45;&gt;F.C.1 -->\n",
       "<g id=\"edge1\" class=\"edge\"><title>Input1&#45;&gt;F.C.1</title>\n",
       "<path fill=\"none\" stroke=\"#5677f3\" d=\"M78,-144.971C78,-134.679 78,-118.375 78,-105.364\"/>\n",
       "<polygon fill=\"#5677f3\" stroke=\"#5677f3\" points=\"81.5001,-105.011 78,-95.0107 74.5001,-105.011 81.5001,-105.011\"/>\n",
       "<text text-anchor=\"middle\" x=\"84\" y=\"-117.5\" font-family=\"Helvetica,sans-Serif\" font-size=\"10.00\"> 0 </text>\n",
       "</g>\n",
       "<!-- Output1 -->\n",
       "<g id=\"node3\" class=\"node\"><title>Output1</title>\n",
       "<polygon fill=\"#5e4fa2\" fill-opacity=\"0.125490\" stroke=\"#5e4fa2\" points=\"-0.5,-1 -0.5,-23 156.5,-23 156.5,-1 -0.5,-1\"/>\n",
       "<text text-anchor=\"middle\" x=\"78\" y=\"-8.3\" font-family=\"Helvetica,sans-Serif\" font-size=\"14.00\">30x2 Output1(output)</text>\n",
       "</g>\n",
       "<!-- F.C.1&#45;&gt;Output1 -->\n",
       "<g id=\"edge2\" class=\"edge\"><title>F.C.1&#45;&gt;Output1</title>\n",
       "<path fill=\"none\" stroke=\"#5677f3\" d=\"M78,-72.9707C78,-62.6786 78,-46.3754 78,-33.3639\"/>\n",
       "<polygon fill=\"#5677f3\" stroke=\"#5677f3\" points=\"81.5001,-33.0107 78,-23.0107 74.5001,-33.0107 81.5001,-33.0107\"/>\n",
       "<text text-anchor=\"middle\" x=\"86.5\" y=\"-45.5\" font-family=\"Helvetica,sans-Serif\" font-size=\"10.00\"> 30 </text>\n",
       "</g>\n",
       "</g>\n",
       "</svg>\n"
      ],
      "text/plain": [
       "<graphviz.dot.Digraph at 0x7fb9c0cb4e10>"
      ]
     },
     "execution_count": 9,
     "metadata": {},
     "output_type": "execute_result"
    }
   ],
   "source": [
    "model1.plot_network()"
   ]
  },
  {
   "cell_type": "code",
   "execution_count": 10,
   "metadata": {
    "ExecuteTime": {
     "end_time": "2019-09-12T17:50:28.266042Z",
     "start_time": "2019-09-12T17:50:27.484700Z"
    }
   },
   "outputs": [
    {
     "name": "stdout",
     "output_type": "stream",
     "text": [
      "NOTE: Training from scratch.\n",
      "NOTE:  Synchronous mode is enabled.\n",
      "NOTE:  The total number of parameters is 752.\n",
      "NOTE:  The approximate memory cost is 1.00 MB.\n",
      "NOTE:  Loading weights cost       0.00 (s).\n",
      "NOTE:  Initializing each layer cost       0.02 (s).\n",
      "NOTE:  The total number of threads on each worker is 24.\n",
      "NOTE:  The total mini-batch size per thread on each worker is 4.\n",
      "NOTE:  The maximum mini-batch size across all workers for the synchronous mode is 96.\n",
      "NOTE:  Target variable: CHURN\n",
      "NOTE:  Number of levels for the target variable:      2\n",
      "NOTE:  Levels for the target variable:\n",
      "NOTE:  Level      0: 0\n",
      "NOTE:  Level      1: 1\n",
      "NOTE:  Number of input variables:    18\n",
      "NOTE:  Number of nominal input variables:      3\n",
      "NOTE:  Number of numeric input variables:     15\n",
      "NOTE:  Epoch Learning Rate        Loss  Fit Error   Time(s)\n",
      "NOTE:  0         0.005          0.4652     0.2044     0.03\n",
      "NOTE:  1         0.005          0.3432     0.1444     0.01\n",
      "NOTE:  2         0.005          0.3029     0.1242     0.01\n",
      "NOTE:  3         0.005          0.2714     0.1099     0.01\n",
      "NOTE:  4         0.005          0.2532    0.09677     0.01\n",
      "NOTE:  5        0.0045          0.2424     0.0904     0.01\n",
      "NOTE:  6        0.0045          0.2352    0.08477     0.01\n",
      "NOTE:  7        0.0045          0.2292    0.08102     0.01\n",
      "NOTE:  8        0.0045          0.2243    0.07802     0.01\n",
      "NOTE:  9        0.0045          0.2199    0.07727     0.01\n",
      "NOTE:  10       0.0041          0.2154    0.07502     0.01\n",
      "NOTE:  11       0.0041           0.212    0.07352     0.01\n",
      "NOTE:  12       0.0041          0.2089    0.07277     0.01\n",
      "NOTE:  13       0.0041          0.2058    0.06977     0.01\n",
      "NOTE:  14       0.0041           0.203    0.06902     0.02\n",
      "NOTE:  15       0.0036          0.1999    0.06677     0.01\n",
      "NOTE:  16       0.0036          0.1975    0.06452     0.01\n",
      "NOTE:  17       0.0036           0.195    0.06414     0.01\n",
      "NOTE:  18       0.0036          0.1928    0.06377     0.01\n",
      "NOTE:  19       0.0036          0.1906    0.06414     0.01\n",
      "NOTE:  20       0.0033          0.1881    0.06227     0.01\n",
      "NOTE:  21       0.0033           0.186    0.06077     0.01\n",
      "NOTE:  22       0.0033          0.1844    0.05964     0.01\n",
      "NOTE:  23       0.0033          0.1826    0.05964     0.01\n",
      "NOTE:  24       0.0033          0.1809    0.05851     0.01\n",
      "NOTE:  25        0.003          0.1787    0.05626     0.01\n",
      "NOTE:  26        0.003          0.1773    0.05664     0.01\n",
      "NOTE:  27        0.003          0.1757    0.05626     0.01\n",
      "NOTE:  28        0.003          0.1743    0.05589     0.01\n",
      "NOTE:  29        0.003          0.1729    0.05551     0.01\n",
      "NOTE:  30       0.0027           0.171    0.05401     0.01\n",
      "NOTE:  31       0.0027          0.1697    0.05289     0.01\n",
      "NOTE:  32       0.0027          0.1685    0.05214     0.01\n",
      "NOTE:  33       0.0027          0.1674    0.05176     0.01\n",
      "NOTE:  34       0.0027          0.1663    0.05214     0.01\n",
      "NOTE:  35       0.0024          0.1647    0.05139     0.01\n",
      "NOTE:  36       0.0024          0.1635    0.05101     0.01\n",
      "NOTE:  37       0.0024          0.1625    0.05101     0.01\n",
      "NOTE:  38       0.0024          0.1615    0.04989     0.01\n",
      "NOTE:  39       0.0024          0.1606    0.05026     0.01\n",
      "NOTE:  40       0.0022          0.1593    0.04914     0.01\n",
      "NOTE:  41       0.0022          0.1583    0.04914     0.01\n",
      "NOTE:  42       0.0022          0.1574    0.04839     0.01\n",
      "NOTE:  43       0.0022          0.1565    0.04839     0.01\n",
      "NOTE:  44       0.0022          0.1556    0.04839     0.01\n",
      "NOTE:  45       0.0019          0.1544    0.04801     0.01\n",
      "NOTE:  46       0.0019          0.1536    0.04801     0.01\n",
      "NOTE:  47       0.0019          0.1529    0.04764     0.01\n",
      "NOTE:  48       0.0019          0.1521    0.04801     0.01\n",
      "NOTE:  49       0.0019          0.1514    0.04839     0.01\n",
      "NOTE:  The optimization reached the maximum number of epochs.\n",
      "NOTE:  The total time is       0.57 (s).\n"
     ]
    }
   ],
   "source": [
    "optimizer = Optimizer(algorithm=AdamSolver(learning_rate=0.005, learning_rate_policy='step', \n",
    "                                           gamma=0.9, step_size=5), \n",
    "                      mini_batch_size=4, seed=1234, max_epochs=50, log_level=2)\n",
    "\n",
    "result = model1.fit(train_tbl, inputs=effect_vars, nominals=noms, \n",
    "                    target='CHURN', optimizer=optimizer)"
   ]
  },
  {
   "cell_type": "code",
   "execution_count": 11,
   "metadata": {
    "ExecuteTime": {
     "end_time": "2019-09-12T17:50:34.263909Z",
     "start_time": "2019-09-12T17:50:33.117231Z"
    }
   },
   "outputs": [
    {
     "data": {
      "text/plain": [
       "<matplotlib.axes._subplots.AxesSubplot at 0x7fb9c0a037b8>"
      ]
     },
     "execution_count": 11,
     "metadata": {},
     "output_type": "execute_result"
    },
    {
     "data": {
      "image/png": "[encoded data removed]",
      "text/plain": [
       "<Figure size 864x360 with 1 Axes>"
      ]
     },
     "metadata": {
      "needs_background": "light"
     },
     "output_type": "display_data"
    }
   ],
   "source": [
    "model1.plot_training_history()"
   ]
  },
  {
   "cell_type": "code",
   "execution_count": 12,
   "metadata": {
    "ExecuteTime": {
     "end_time": "2019-09-12T17:50:37.199286Z",
     "start_time": "2019-09-12T17:50:37.042408Z"
    }
   },
   "outputs": [],
   "source": [
    "test_result = model1.predict(test_tbl) # get fit stats\n",
    "test_result_table = model1.valid_res_tbl # get  result table"
   ]
  },
  {
   "cell_type": "code",
   "execution_count": 13,
   "metadata": {
    "ExecuteTime": {
     "end_time": "2019-09-12T17:50:38.300865Z",
     "start_time": "2019-09-12T17:50:38.137013Z"
    }
   },
   "outputs": [
    {
     "data": {
      "text/html": [
       "<div>\n",
       "<style scoped>\n",
       "    .dataframe tbody tr th:only-of-type {\n",
       "        vertical-align: middle;\n",
       "    }\n",
       "\n",
       "    .dataframe tbody tr th {\n",
       "        vertical-align: top;\n",
       "    }\n",
       "\n",
       "    .dataframe thead th {\n",
       "        text-align: right;\n",
       "    }\n",
       "</style>\n",
       "<table border=\"1\" class=\"dataframe\">\n",
       "  <thead>\n",
       "    <tr style=\"text-align: right;\">\n",
       "      <th title=\"I_CHURN\">I_CHURN</th>\n",
       "      <th title=\"0\">0</th>\n",
       "      <th title=\"1\">1</th>\n",
       "    </tr>\n",
       "    <tr>\n",
       "      <th title=\"CHURN\">CHURN</th>\n",
       "      <th title=\"\"></th>\n",
       "      <th title=\"\"></th>\n",
       "    </tr>\n",
       "  </thead>\n",
       "  <tbody>\n",
       "    <tr>\n",
       "      <th>0</th>\n",
       "      <td>556.00</td>\n",
       "      <td>14.00</td>\n",
       "    </tr>\n",
       "    <tr>\n",
       "      <th>1</th>\n",
       "      <td>26.00</td>\n",
       "      <td>71.00</td>\n",
       "    </tr>\n",
       "  </tbody>\n",
       "</table>\n",
       "</div>"
      ],
      "text/plain": [
       "I_CHURN      0     1\n",
       "CHURN               \n",
       "0       556.00 14.00\n",
       "1        26.00 71.00"
      ]
     },
     "metadata": {},
     "output_type": "display_data"
    }
   ],
   "source": [
    "# Show the confusion matrix\n",
    "display(confusion_matrix(test_result_table['CHURN'], test_result_table['I_CHURN']))"
   ]
  },
  {
   "cell_type": "code",
   "execution_count": 15,
   "metadata": {
    "ExecuteTime": {
     "end_time": "2019-09-12T17:50:57.140852Z",
     "start_time": "2019-09-12T17:50:57.025974Z"
    }
   },
   "outputs": [
    {
     "name": "stdout",
     "output_type": "stream",
     "text": [
      "The AUC score is 0.931\n"
     ]
    }
   ],
   "source": [
    "auc_score = roc_auc_score(y_true='CHURN',\n",
    "              y_score='P_CHURN1',\n",
    "              pos_label=1,\n",
    "              castable=test_result_table)\n",
    "print('The AUC score is {:.3f}'.format(auc_score))"
   ]
  },
  {
   "cell_type": "code",
   "execution_count": 16,
   "metadata": {
    "ExecuteTime": {
     "end_time": "2019-09-12T17:50:58.952051Z",
     "start_time": "2019-09-12T17:50:58.883714Z"
    }
   },
   "outputs": [],
   "source": [
    "sess.terminate()"
   ]
  }
 ],
 "metadata": {
  "kernelspec": {
   "display_name": "Python 3",
   "language": "python",
   "name": "python3"
  },
  "language_info": {
   "codemirror_mode": {
    "name": "ipython",
    "version": 3
   },
   "file_extension": ".py",
   "mimetype": "text/x-python",
   "name": "python",
   "nbconvert_exporter": "python",
   "pygments_lexer": "ipython3",
   "version": "3.6.8"
  },
  "varInspector": {
   "cols": {
    "lenName": 16,
    "lenType": 16,
    "lenVar": 40
   },
   "kernels_config": {
    "python": {
     "delete_cmd_postfix": "",
     "delete_cmd_prefix": "del ",
     "library": "var_list.py",
     "varRefreshCmd": "print(var_dic_list())"
    },
    "r": {
     "delete_cmd_postfix": ") ",
     "delete_cmd_prefix": "rm(",
     "library": "var_list.r",
     "varRefreshCmd": "cat(var_dic_list()) "
    }
   },
   "types_to_exclude": [
    "module",
    "function",
    "builtin_function_or_method",
    "instance",
    "_Feature"
   ],
   "window_display": false
  }
 },
 "nbformat": 4,
 "nbformat_minor": 2
}
